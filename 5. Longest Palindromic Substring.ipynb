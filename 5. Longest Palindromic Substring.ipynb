{
 "cells": [
  {
   "cell_type": "markdown",
   "metadata": {},
   "source": [
    "Given a string s, return the longest palindromic substring in s.\n",
    "\n",
    " \n",
    "\n",
    "Example 1:\n",
    "\n",
    "Input: s = \"babad\"\n",
    "Output: \"bab\"\n",
    "Note: \"aba\" is also a valid answer.\n",
    "Example 2:\n",
    "\n",
    "Input: s = \"cbbd\"\n",
    "Output: \"bb\"\n",
    "Example 3:\n",
    "\n",
    "Input: s = \"a\"\n",
    "Output: \"a\"\n",
    "Example 4:\n",
    "\n",
    "Input: s = \"ac\"\n",
    "Output: \"a\""
   ]
  },
  {
   "cell_type": "code",
   "execution_count": 5,
   "metadata": {},
   "outputs": [
    {
     "name": "stdout",
     "output_type": "stream",
     "text": [
      "i 0\n",
      "temp1 b\n",
      "res1 \n",
      "i 1\n",
      "temp1 bab\n",
      "res1 b\n",
      "i 2\n",
      "temp1 aba\n",
      "res1 bab\n",
      "i 3\n",
      "temp1 a\n",
      "res1 bab\n",
      "i 4\n",
      "temp1 d\n",
      "res1 bab\n",
      "bab\n"
     ]
    }
   ],
   "source": [
    "def longestPalindrome(s):\n",
    "    res = \"\"\n",
    "    for i in range(len(s)):\n",
    "        # odd case, like \"aba\"\n",
    "        print(\"i\",i)\n",
    "        tmp = helper(s, i, i)\n",
    "        print(\"temp1\",tmp)\n",
    "        print(\"res1\",res)\n",
    "        if len(tmp) > len(res):\n",
    "            res = tmp\n",
    "        # even case, like \"abba\"\n",
    "        tmp = helper(s, i, i+1)\n",
    "#         print(\"temp2\",tmp)\n",
    "#         print(\"res2\", res)\n",
    "        if len(tmp) > len(res):\n",
    "            res = tmp\n",
    "    return res\n",
    " \n",
    "# get the longest palindrome, l, r are the middle indexes   \n",
    "# from inner to outer\n",
    "def helper(s, l, r):\n",
    "    while l >= 0 and r < len(s) and s[l] == s[r]:\n",
    "        l -= 1; r += 1\n",
    "    return s[l+1:r]\n",
    "print(longestPalindrome(\"babad\"))\n",
    "\n",
    " "
   ]
  },
  {
   "cell_type": "code",
   "execution_count": null,
   "metadata": {},
   "outputs": [],
   "source": []
  }
 ],
 "metadata": {
  "kernelspec": {
   "display_name": "Python 3",
   "language": "python",
   "name": "python3"
  },
  "language_info": {
   "codemirror_mode": {
    "name": "ipython",
    "version": 3
   },
   "file_extension": ".py",
   "mimetype": "text/x-python",
   "name": "python",
   "nbconvert_exporter": "python",
   "pygments_lexer": "ipython3",
   "version": "3.7.4"
  }
 },
 "nbformat": 4,
 "nbformat_minor": 4
}
