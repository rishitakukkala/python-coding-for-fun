{
 "cells": [
  {
   "cell_type": "markdown",
   "id": "ddc03ab9-c011-4606-abf2-19b6f652911a",
   "metadata": {},
   "source": [
    "Given graph nodes converting them with edges (flows) format"
   ]
  },
  {
   "cell_type": "code",
   "execution_count": 27,
   "id": "0a3802a2-9d01-4d33-8f9f-5d6eefedd141",
   "metadata": {},
   "outputs": [],
   "source": [
    "graph_data = {\n",
    "    \"nodes\": [\n",
    "        {\n",
    "            \"id\": \"Task_1\",\n",
    "            \"outgoing\": [\n",
    "                \"Split_1\"\n",
    "            ]\n",
    "        },\n",
    "        {\n",
    "            \"id\": \"Split_1\",\n",
    "            \"outgoing\": [\n",
    "                \"Task_2\",\n",
    "                \"Task_3\"\n",
    "            ]\n",
    "        },\n",
    "        {\n",
    "            \"id\": \"Task_2\",\n",
    "            \"outgoing\": []\n",
    "        },\n",
    "        {\n",
    "            \"id\": \"Task_3\",\n",
    "            \"outgoing\": []\n",
    "        }\n",
    "    ]\n",
    "}"
   ]
  },
  {
   "cell_type": "code",
   "execution_count": 29,
   "id": "6377c7ef-5675-4c8d-8313-dbb2216f1415",
   "metadata": {},
   "outputs": [],
   "source": [
    "def build_graph(graph_data):\n",
    "    flows = []\n",
    "    node_dict = {node[\"id\"]:{\"id\": node[\"id\"], \"incoming\":[], \"outgoing\": []}\n",
    "                for node in graph_data[\"nodes\"]}\n",
    "    flow_counter = 1\n",
    "    for node in graph_data[\"nodes\"]:\n",
    "        source = node[\"id\"]\n",
    "        for target in node.get(\"outgoing\", []):\n",
    "            flow_id = f\"Flow {flow_counter}\"\n",
    "            flow_counter += 1\n",
    "            flow_obj = {\n",
    "                \"id\": flow_id,\n",
    "                \"sourceRef\": source,\n",
    "                \"targetRef\": target\n",
    "            }\n",
    "        flows.append(flow_obj)\n",
    "        node_dict[source][\"outgoing\"].append(flow_id)\n",
    "        node_dict[target][\"incoming\"].append(flow_id)\n",
    "\n",
    "    final_graph = {\n",
    "            \"nodes\": list(node_dict.values()),\n",
    "            \"flows\": flows\n",
    "    }\n",
    "    print(json.dumps(final_graph,indent=4))"
   ]
  },
  {
   "cell_type": "code",
   "execution_count": 31,
   "id": "5a8ba421-876b-4f23-a8e6-62227995536e",
   "metadata": {},
   "outputs": [
    {
     "name": "stdout",
     "output_type": "stream",
     "text": [
      "{\n",
      "    \"nodes\": [\n",
      "        {\n",
      "            \"id\": \"Task_1\",\n",
      "            \"incoming\": [],\n",
      "            \"outgoing\": [\n",
      "                \"Flow 1\"\n",
      "            ]\n",
      "        },\n",
      "        {\n",
      "            \"id\": \"Split_1\",\n",
      "            \"incoming\": [\n",
      "                \"Flow 1\"\n",
      "            ],\n",
      "            \"outgoing\": [\n",
      "                \"Flow 3\"\n",
      "            ]\n",
      "        },\n",
      "        {\n",
      "            \"id\": \"Task_2\",\n",
      "            \"incoming\": [],\n",
      "            \"outgoing\": [\n",
      "                \"Flow 3\"\n",
      "            ]\n",
      "        },\n",
      "        {\n",
      "            \"id\": \"Task_3\",\n",
      "            \"incoming\": [\n",
      "                \"Flow 3\",\n",
      "                \"Flow 3\",\n",
      "                \"Flow 3\"\n",
      "            ],\n",
      "            \"outgoing\": [\n",
      "                \"Flow 3\"\n",
      "            ]\n",
      "        }\n",
      "    ],\n",
      "    \"flows\": [\n",
      "        {\n",
      "            \"id\": \"Flow 1\",\n",
      "            \"sourceRef\": \"Task_1\",\n",
      "            \"targetRef\": \"Split_1\"\n",
      "        },\n",
      "        {\n",
      "            \"id\": \"Flow 3\",\n",
      "            \"sourceRef\": \"Split_1\",\n",
      "            \"targetRef\": \"Task_3\"\n",
      "        },\n",
      "        {\n",
      "            \"id\": \"Flow 3\",\n",
      "            \"sourceRef\": \"Split_1\",\n",
      "            \"targetRef\": \"Task_3\"\n",
      "        },\n",
      "        {\n",
      "            \"id\": \"Flow 3\",\n",
      "            \"sourceRef\": \"Split_1\",\n",
      "            \"targetRef\": \"Task_3\"\n",
      "        }\n",
      "    ]\n",
      "}\n"
     ]
    }
   ],
   "source": [
    "build_graph(graph_data)"
   ]
  },
  {
   "cell_type": "code",
   "execution_count": null,
   "id": "ad98efdf-5ba7-47fa-8230-07967da2cb21",
   "metadata": {},
   "outputs": [],
   "source": []
  }
 ],
 "metadata": {
  "kernelspec": {
   "display_name": "Python 3 (ipykernel)",
   "language": "python",
   "name": "python3"
  },
  "language_info": {
   "codemirror_mode": {
    "name": "ipython",
    "version": 3
   },
   "file_extension": ".py",
   "mimetype": "text/x-python",
   "name": "python",
   "nbconvert_exporter": "python",
   "pygments_lexer": "ipython3",
   "version": "3.12.4"
  }
 },
 "nbformat": 4,
 "nbformat_minor": 5
}
