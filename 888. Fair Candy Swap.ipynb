{
 "cells": [
  {
   "cell_type": "markdown",
   "metadata": {},
   "source": [
    "Alice and Bob have candy bars of different sizes: A[i] is the size of the i-th bar of candy that Alice has, and B[j] is the size of the j-th bar of candy that Bob has.\n",
    "\n",
    "Since they are friends, they would like to exchange one candy bar each so that after the exchange, they both have the same total amount of candy.  (The total amount of candy a person has is the sum of the sizes of candy bars they have.)\n",
    "\n",
    "Return an integer array ans where ans[0] is the size of the candy bar that Alice must exchange, and ans[1] is the size of the candy bar that Bob must exchange.\n",
    "\n",
    "If there are multiple answers, you may return any one of them.  It is guaranteed an answer exists.\n",
    "\n",
    " \n",
    "\n",
    "Example 1:\n",
    "\n",
    "Input: A = [1,1], B = [2,2]\n",
    "Output: [1,2]\n",
    "Example 2:\n",
    "\n",
    "Input: A = [1,2], B = [2,3]\n",
    "Output: [1,2]\n",
    "Example 3:\n",
    "\n",
    "Input: A = [2], B = [1,3]\n",
    "Output: [2,3]\n",
    "Example 4:\n",
    "\n",
    "Input: A = [1,2,5], B = [2,4]\n",
    "Output: [5,4]"
   ]
  },
  {
   "cell_type": "code",
   "execution_count": 5,
   "metadata": {},
   "outputs": [
    {
     "data": {
      "text/plain": [
       "[1, 2]"
      ]
     },
     "execution_count": 5,
     "metadata": {},
     "output_type": "execute_result"
    }
   ],
   "source": [
    "def helper(A,B):\n",
    "    sum_A = sum(A)\n",
    "    sum_B = sum(B)\n",
    "    delta = (sum_A-sum_B)//2\n",
    "    hash_A = set(A)\n",
    "    for num in B:\n",
    "        if(num+delta) in hash_A:\n",
    "            return [num+delta,num]\n",
    "    \n",
    "    \n",
    "A  = [1,2]\n",
    "B = [2,2]\n",
    "helper(A,B)"
   ]
  },
  {
   "cell_type": "code",
   "execution_count": null,
   "metadata": {},
   "outputs": [],
   "source": []
  }
 ],
 "metadata": {
  "kernelspec": {
   "display_name": "Python 3",
   "language": "python",
   "name": "python3"
  },
  "language_info": {
   "codemirror_mode": {
    "name": "ipython",
    "version": 3
   },
   "file_extension": ".py",
   "mimetype": "text/x-python",
   "name": "python",
   "nbconvert_exporter": "python",
   "pygments_lexer": "ipython3",
   "version": "3.7.4"
  }
 },
 "nbformat": 4,
 "nbformat_minor": 4
}
