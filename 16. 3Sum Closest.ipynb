{
 "cells": [
  {
   "cell_type": "markdown",
   "metadata": {},
   "source": [
    "Given an array nums of n integers and an integer target, find three integers in nums such that the sum is closest to target. Return the sum of the three integers. You may assume that each input would have exactly one solution.\n",
    "\n",
    " \n",
    "\n",
    "Example 1:\n",
    "\n",
    "Input: nums = [-1,2,1,-4], target = 1\n",
    "Output: 2\n",
    "Explanation: The sum that is closest to the target is 2. (-1 + 2 + 1 = 2).\n",
    " \n",
    "\n",
    "Constraints:\n",
    "\n",
    "3 <= nums.length <= 10^3\n",
    "-10^3 <= nums[i] <= 10^3\n",
    "-10^4 <= target <= 10^4"
   ]
  },
  {
   "cell_type": "code",
   "execution_count": 8,
   "metadata": {},
   "outputs": [
    {
     "name": "stdout",
     "output_type": "stream",
     "text": [
      "2\n"
     ]
    }
   ],
   "source": [
    "def ThreeSum(nums,target):\n",
    "    nums.sort()\n",
    "#     print(nums)\n",
    "    res = sum(nums[:3])\n",
    "#     print(\"Initial res\", res)\n",
    "    for i in range(len(nums)-2):\n",
    "        beg = i+1\n",
    "        end = len(nums)-1\n",
    "        while(beg<end):\n",
    "            sumhere = nums[i]+nums[beg]+nums[end]\n",
    "#             print(\"sumhere-target\",abs(sumhere-target))\n",
    "#             print(\"res-target\",abs(res-target))\n",
    "            if abs(sumhere-target) < abs(res-target):\n",
    "                res = sumhere\n",
    "            elif abs(sumhere) < target:\n",
    "                beg += 1\n",
    "            else:\n",
    "                end -= 1\n",
    "    return res\n",
    "                \n",
    "    \n",
    "print(ThreeSum([-1,2,1,-4],1))"
   ]
  },
  {
   "cell_type": "code",
   "execution_count": null,
   "metadata": {},
   "outputs": [],
   "source": []
  }
 ],
 "metadata": {
  "kernelspec": {
   "display_name": "Python 3",
   "language": "python",
   "name": "python3"
  },
  "language_info": {
   "codemirror_mode": {
    "name": "ipython",
    "version": 3
   },
   "file_extension": ".py",
   "mimetype": "text/x-python",
   "name": "python",
   "nbconvert_exporter": "python",
   "pygments_lexer": "ipython3",
   "version": "3.7.4"
  }
 },
 "nbformat": 4,
 "nbformat_minor": 4
}
